{
  "nbformat": 4,
  "nbformat_minor": 0,
  "metadata": {
    "colab": {
      "name": "Criptografia RSA.ipynb",
      "provenance": [],
      "collapsed_sections": [],
      "authorship_tag": "ABX9TyNmgXXUNxhTR/cMfk2b1rv3",
      "include_colab_link": true
    },
    "kernelspec": {
      "name": "python3",
      "display_name": "Python 3"
    },
    "language_info": {
      "name": "python"
    }
  },
  "cells": [
    {
      "cell_type": "markdown",
      "metadata": {
        "id": "view-in-github",
        "colab_type": "text"
      },
      "source": [
        "<a href=\"https://colab.research.google.com/github/halen48/CriptografiaRSA/blob/main/Criptografia_RSA.ipynb\" target=\"_parent\"><img src=\"https://colab.research.google.com/assets/colab-badge.svg\" alt=\"Open In Colab\"/></a>"
      ]
    },
    {
      "cell_type": "code",
      "metadata": {
        "id": "ltABcbe4OE9c",
        "cellView": "form"
      },
      "source": [
        "#@title Dependências\n",
        "import random\n",
        "import math\n",
        "from IPython.core.display import display, HTML"
      ],
      "execution_count": 3739,
      "outputs": []
    },
    {
      "cell_type": "markdown",
      "metadata": {
        "id": "kH5IEH3vJHmS"
      },
      "source": [
        "#<a href=\"https://pt.wikipedia.org/wiki/M%C3%A1ximo_divisor_comum\">Máximo divisor comum (MDC) </a>"
      ]
    },
    {
      "cell_type": "code",
      "metadata": {
        "id": "Xz5udVqII-FN",
        "cellView": "form"
      },
      "source": [
        "#@title <a href=\"https://pt.wikipedia.org/wiki/Algoritmo_de_Euclides\"> Algoritmo euclidiano </a>\n",
        "def mdc(a : int, b : int) -> int:\n",
        "  while b != 0:\n",
        "    a,b = b, a%b\n",
        "  return a"
      ],
      "execution_count": 3740,
      "outputs": []
    },
    {
      "cell_type": "markdown",
      "metadata": {
        "id": "_wEpxs4MNhqp"
      },
      "source": [
        "#Chave pública"
      ]
    },
    {
      "cell_type": "markdown",
      "metadata": {
        "id": "R5qD7TZeMgak"
      },
      "source": [
        ">Escolha dois números primos, p e q, e mantenha-os em segredo"
      ]
    },
    {
      "cell_type": "code",
      "metadata": {
        "cellView": "form",
        "id": "Ao6NW-bDMm9L"
      },
      "source": [
        "'''\n",
        "#p_q_indice_e = (111,7,-1) #@param {type:\"raw\"}\n",
        "p = p_q_indice_e[0]\n",
        "q = p_q_indice_e[1]\n",
        "\n",
        "indice_e = p_q_indice_e[2]  \n",
        "'''\n",
        "p = \"61\" #@param [2, 3, 5, 7, 11, 13, 17, 19, 23, 29, 31, 37, 41, 43, 47, 53, 59, 61, 67, 71, 73, 79, 83, 89, 97, 101, 103, 107, 109, 113, 127, 131, 137, 139, 149, 151, 157, 163, 167, 173, 179, 181, 191, 193, 197, 199, 211, 223, 227, 229, 233, 239, 241, 251, 257, 263, 269, 271, 277, 281, 283, 293, 307, 311, 313, 317, 331, 337, 347, 349, 353, 359, 367, 373, 379, 383, 389, 397, 401, 409, 419, 421, 431, 433, 439, 443, 449, 457, 461, 463, 467, 479, 487, 491, 499, 503, 509, 521, 523, 541, 547]\n",
        "q = \"53\" #@param [2, 3, 5, 7, 11, 13, 17, 19, 23, 29, 31, 37, 41, 43, 47, 53, 59, 61, 67, 71, 73, 79, 83, 89, 97, 101, 103, 107, 109, 113, 127, 131, 137, 139, 149, 151, 157, 163, 167, 173, 179, 181, 191, 193, 197, 199, 211, 223, 227, 229, 233, 239, 241, 251, 257, 263, 269, 271, 277, 281, 283, 293, 307, 311, 313, 317, 331, 337, 347, 349, 353, 359, 367, 373, 379, 383, 389, 397, 401, 409, 419, 421, 431, 433, 439, 443, 449, 457, 461, 463, 467, 479, 487, 491, 499, 503, 509, 521, 523, 541, 547]\n",
        "indice_e =  2#@param {type:\"raw\"}\n",
        "p,q = int(p),int(q)"
      ],
      "execution_count": 3741,
      "outputs": []
    },
    {
      "cell_type": "markdown",
      "metadata": {
        "id": "ipanm1OpM9qc"
      },
      "source": [
        " >Calcula a chave pública **n**, sendo\n",
        " ```\n",
        " n = p⋅q\n",
        " ```"
      ]
    },
    {
      "cell_type": "code",
      "metadata": {
        "id": "_U63fl9rNMW9"
      },
      "source": [
        "n = p * q"
      ],
      "execution_count": 3742,
      "outputs": []
    },
    {
      "cell_type": "code",
      "metadata": {
        "colab": {
          "base_uri": "https://localhost:8080/",
          "height": 0
        },
        "id": "d1qFDY78W1-6",
        "outputId": "781565f2-e67f-49d8-ff0e-3172625cbf06"
      },
      "source": [
        "display(HTML('<h2>n = %d</h2>'%(n)))"
      ],
      "execution_count": 3743,
      "outputs": [
        {
          "output_type": "display_data",
          "data": {
            "text/html": [
              "<h2>n = 3233</h2>"
            ],
            "text/plain": [
              "<IPython.core.display.HTML object>"
            ]
          },
          "metadata": {
            "tags": []
          }
        }
      ]
    },
    {
      "cell_type": "markdown",
      "metadata": {
        "id": "6JI6HhHiMwZz"
      },
      "source": [
        "#Calcula ϕ(n)"
      ]
    },
    {
      "cell_type": "markdown",
      "metadata": {
        "id": "yIdD_b0eKWpD"
      },
      "source": [
        "Sendo:\n",
        "```\n",
        "n = p⋅q\n",
        "ϕ(n) = lcm(ϕ(p),ϕ(q))\n",
        "p e q são primos\n",
        "```"
      ]
    },
    {
      "cell_type": "markdown",
      "metadata": {
        "id": "AecRm12NMPrr"
      },
      "source": [
        "Assim:\n",
        "```\n",
        "ϕ(n) = mdc(p − 1, q − 1)\n",
        "```"
      ]
    },
    {
      "cell_type": "code",
      "metadata": {
        "id": "KLfKm8YeYBLI"
      },
      "source": [
        "def mmc(a : int, b : int) -> int:\n",
        "  return a*b // mdc(a,b)"
      ],
      "execution_count": 3744,
      "outputs": []
    },
    {
      "cell_type": "code",
      "metadata": {
        "id": "dK5Gdi60KXIa"
      },
      "source": [
        "def ϕ(p : int, q : int) -> int:\n",
        "  return mmc(p - 1,q - 1)"
      ],
      "execution_count": 3745,
      "outputs": []
    },
    {
      "cell_type": "code",
      "metadata": {
        "id": "wvWNOIZOXSeP"
      },
      "source": [
        "phi_n = ϕ(p,q)"
      ],
      "execution_count": 3746,
      "outputs": []
    },
    {
      "cell_type": "code",
      "metadata": {
        "colab": {
          "base_uri": "https://localhost:8080/",
          "height": 0
        },
        "id": "6csBuTu3XT7f",
        "outputId": "7b2d3e91-f1cf-43dd-d7e8-15570a591474"
      },
      "source": [
        "display(HTML('<h2>ϕ(%d) = %d</h2>'%((p*q),phi_n)))"
      ],
      "execution_count": 3747,
      "outputs": [
        {
          "output_type": "display_data",
          "data": {
            "text/html": [
              "<h2>ϕ(3233) = 780</h2>"
            ],
            "text/plain": [
              "<IPython.core.display.HTML object>"
            ]
          },
          "metadata": {
            "tags": []
          }
        }
      ]
    },
    {
      "cell_type": "markdown",
      "metadata": {
        "id": "quEYObi8PLiN"
      },
      "source": [
        "#<a href=\"https://www.mathsisfun.com/numbers/coprime-calculator.html\">Coprimo</a>"
      ]
    },
    {
      "cell_type": "markdown",
      "metadata": {
        "id": "_dHDTmnoPTRc"
      },
      "source": [
        ">Calcula um número inteiro ***e***, parte da chave pública, onde:\n",
        "```\n",
        "1 < e < ϕ(n) \n",
        "mdc(e, ϕ(n)) = 1;\n",
        "```\n",
        "Isto é, ***e*** é um número coprimo de ***ϕ(n)***"
      ]
    },
    {
      "cell_type": "code",
      "metadata": {
        "id": "5-0Uk8aKPSx8"
      },
      "source": [
        "def coprimo(phi_n : int) -> list:\n",
        "  #A busca começa em 2, uma vez que todo numero é divisível por 1\n",
        "  e = 2\n",
        "  res = []\n",
        "  while e < phi_n:\n",
        "    if ( mdc(e, phi_n) == 1 ):\n",
        "      res.append(e)\n",
        "    e+= 1\n",
        "  return res"
      ],
      "execution_count": 3748,
      "outputs": []
    },
    {
      "cell_type": "code",
      "metadata": {
        "id": "5LWTWba_Q8PO"
      },
      "source": [
        "es = coprimo(phi_n)\n",
        "if(indice_e < 0):\n",
        "  e = random.choice(es)\n",
        "else:\n",
        "  e = es[indice_e]"
      ],
      "execution_count": 3749,
      "outputs": []
    },
    {
      "cell_type": "code",
      "metadata": {
        "colab": {
          "base_uri": "https://localhost:8080/",
          "height": 0
        },
        "id": "hsxXmmMIWvZ3",
        "outputId": "3a03da55-ad88-4658-891c-83e19248602d"
      },
      "source": [
        "display(HTML('<h3>Coprimos de %d: %s</h3>'%(phi_n, es)))\n",
        "display(HTML('<h2>e = %d</h2>'%(e)))\n"
      ],
      "execution_count": 3750,
      "outputs": [
        {
          "output_type": "display_data",
          "data": {
            "text/html": [
              "<h3>Coprimos de 780: [7, 11, 17, 19, 23, 29, 31, 37, 41, 43, 47, 49, 53, 59, 61, 67, 71, 73, 77, 79, 83, 89, 97, 101, 103, 107, 109, 113, 119, 121, 127, 131, 133, 137, 139, 149, 151, 157, 161, 163, 167, 173, 179, 181, 187, 191, 193, 197, 199, 203, 209, 211, 217, 223, 227, 229, 233, 239, 241, 251, 253, 257, 259, 263, 269, 271, 277, 281, 283, 287, 289, 293, 301, 307, 311, 313, 317, 319, 323, 329, 331, 337, 341, 343, 347, 349, 353, 359, 361, 367, 371, 373, 379, 383, 389, 391, 397, 401, 407, 409, 413, 419, 421, 427, 431, 433, 437, 439, 443, 449, 451, 457, 461, 463, 467, 469, 473, 479, 487, 491, 493, 497, 499, 503, 509, 511, 517, 521, 523, 527, 529, 539, 541, 547, 551, 553, 557, 563, 569, 571, 577, 581, 583, 587, 589, 593, 599, 601, 607, 613, 617, 619, 623, 629, 631, 641, 643, 647, 649, 653, 659, 661, 667, 671, 673, 677, 679, 683, 691, 697, 701, 703, 707, 709, 713, 719, 721, 727, 731, 733, 737, 739, 743, 749, 751, 757, 761, 763, 769, 773, 779]</h3>"
            ],
            "text/plain": [
              "<IPython.core.display.HTML object>"
            ]
          },
          "metadata": {
            "tags": []
          }
        },
        {
          "output_type": "display_data",
          "data": {
            "text/html": [
              "<h2>e = 17</h2>"
            ],
            "text/plain": [
              "<IPython.core.display.HTML object>"
            ]
          },
          "metadata": {
            "tags": []
          }
        }
      ]
    },
    {
      "cell_type": "markdown",
      "metadata": {
        "id": "gegfrwMDR45g"
      },
      "source": [
        "#Inverso multiplicativo modular"
      ]
    },
    {
      "cell_type": "markdown",
      "metadata": {
        "id": "SWa2bFwWR6KV"
      },
      "source": [
        ">Sendo:\n",
        "```\n",
        "d⋅e ≡ 1 (mod ϕ(n)); \n",
        "```\n",
        "Logo:\n",
        "```\n",
        "d ≡ e^−1 (mod ϕ(n))\n",
        "```"
      ]
    },
    {
      "cell_type": "code",
      "metadata": {
        "id": "wQJ5-I7tR4E9",
        "cellView": "form"
      },
      "source": [
        "#@title <a href=\"https://pt.wikipedia.org/wiki/Algoritmo_de_Euclides_estendido\"> Algoritmo Euclidiano Estendido </a>\n",
        "def mdce(a : int, b : int) -> tuple:\n",
        "  if (a == 0):\n",
        "    return 0,1,b\n",
        "  \n",
        "  x, y, mdc_ = mdce( b % a, a)\n",
        "\n",
        "  return y - (b//a) * x, x, mdc_"
      ],
      "execution_count": 3751,
      "outputs": []
    },
    {
      "cell_type": "code",
      "metadata": {
        "id": "XBkW_aFCWjEn"
      },
      "source": [
        "r_mdce = mdce(e, phi_n)\n",
        "d = r_mdce[0]\n",
        "if(d < 0):\n",
        "  d += phi_n"
      ],
      "execution_count": 3752,
      "outputs": []
    },
    {
      "cell_type": "code",
      "metadata": {
        "colab": {
          "base_uri": "https://localhost:8080/",
          "height": 0
        },
        "id": "jKeIz_jPXGEa",
        "outputId": "e85b6123-b809-478f-d71c-c38fd4989c7d"
      },
      "source": [
        "display(HTML('<h2>%d ≡ (%d^-1 * mod %d)</h2>'%(d, e, phi_n)))\n",
        "display(HTML(\"<h2> %d * %d + %d * %d = %d </h2>\"%(e, r_mdce[0], phi_n, r_mdce[1], r_mdce[2])))"
      ],
      "execution_count": 3753,
      "outputs": [
        {
          "output_type": "display_data",
          "data": {
            "text/html": [
              "<h2>413 ≡ (17^-1 * mod 780)</h2>"
            ],
            "text/plain": [
              "<IPython.core.display.HTML object>"
            ]
          },
          "metadata": {
            "tags": []
          }
        },
        {
          "output_type": "display_data",
          "data": {
            "text/html": [
              "<h2> 17 * -367 + 780 * 8 = 1 </h2>"
            ],
            "text/plain": [
              "<IPython.core.display.HTML object>"
            ]
          },
          "metadata": {
            "tags": []
          }
        }
      ]
    },
    {
      "cell_type": "markdown",
      "metadata": {
        "id": "ktiRNdYzZZd4"
      },
      "source": [
        "#Chaves"
      ]
    },
    {
      "cell_type": "code",
      "metadata": {
        "colab": {
          "base_uri": "https://localhost:8080/",
          "height": 195
        },
        "id": "6cpOIDtYZYiS",
        "outputId": "eba96f91-76b6-45fd-bc8b-ebb46e118ab5"
      },
      "source": [
        "display(HTML('<h2>n, e, d: (%d, %d, %d)</h2>'%(n, e, d)))\n",
        "display(HTML('<h2>Chave Pública: (%d, %d)</h2>'%(n, e)))\n",
        "display(HTML('<h2>Chave Privada: (%d, %d)</h2>'%(n, d)))\n",
        "display(HTML('<h2>Numero de caracteres (Tamanho do bloco) do byte criptografado: %d</h2>'%(len(format(n,\"x\")))))"
      ],
      "execution_count": 3754,
      "outputs": [
        {
          "output_type": "display_data",
          "data": {
            "text/html": [
              "<h2>n, e, d: (3233, 17, 413)</h2>"
            ],
            "text/plain": [
              "<IPython.core.display.HTML object>"
            ]
          },
          "metadata": {
            "tags": []
          }
        },
        {
          "output_type": "display_data",
          "data": {
            "text/html": [
              "<h2>Chave Pública: (3233, 17)</h2>"
            ],
            "text/plain": [
              "<IPython.core.display.HTML object>"
            ]
          },
          "metadata": {
            "tags": []
          }
        },
        {
          "output_type": "display_data",
          "data": {
            "text/html": [
              "<h2>Chave Privada: (3233, 413)</h2>"
            ],
            "text/plain": [
              "<IPython.core.display.HTML object>"
            ]
          },
          "metadata": {
            "tags": []
          }
        },
        {
          "output_type": "display_data",
          "data": {
            "text/html": [
              "<h2>Numero de caracteres (Tamanho do bloco) do byte criptografado: 3</h2>"
            ],
            "text/plain": [
              "<IPython.core.display.HTML object>"
            ]
          },
          "metadata": {
            "tags": []
          }
        }
      ]
    },
    {
      "cell_type": "markdown",
      "metadata": {
        "id": "sTUHmpmNppI5"
      },
      "source": [
        "#Codificando"
      ]
    },
    {
      "cell_type": "code",
      "metadata": {
        "id": "eK6gO_eT2EQk"
      },
      "source": [
        "def separa_string(string :str, janela : int, padding : bool) -> list:\n",
        "  #Se a string não for multiplo de janela, faz um padding no final\n",
        "  if(padding):\n",
        "    tamanho_padding = len(string)%janela\n",
        "    if(tamanho_padding != 0):\n",
        "      string += '0'*(janela-tamanho_padding)\n",
        "  return [string[i-janela:i] for i in range(janela, len(string)+janela, janela)]"
      ],
      "execution_count": 3755,
      "outputs": []
    },
    {
      "cell_type": "code",
      "metadata": {
        "id": "1NiZJQMc6d-u"
      },
      "source": [
        "def string_para_bytes(string :str) -> list:\n",
        "  return separa_string(string, 2, True)"
      ],
      "execution_count": 3756,
      "outputs": []
    },
    {
      "cell_type": "code",
      "metadata": {
        "id": "zS0PAA783nv1"
      },
      "source": [
        "def bytes_para_string(mensagem_bytes : str) -> str:\n",
        "  return ''.join([chr(int(b,16)) for b in mensagem_bytes])"
      ],
      "execution_count": 3757,
      "outputs": []
    },
    {
      "cell_type": "code",
      "metadata": {
        "cellView": "form",
        "id": "0pXJlJ24pqkn"
      },
      "source": [
        "mensagem = \"Criptografia \\xE9 muito legal!! O melhor mesmo \\xE9 falar besteira na frente de todo mundo e ningu\\xE9m entender o que a gente t\\xE1 falando rsrsrs\" #@param {type:\"string\"}"
      ],
      "execution_count": 3758,
      "outputs": []
    },
    {
      "cell_type": "code",
      "metadata": {
        "colab": {
          "base_uri": "https://localhost:8080/"
        },
        "id": "ulHtTbYc2QNU",
        "outputId": "c6b540c4-4aea-42e4-881b-c3611d947d87"
      },
      "source": [
        "mensagem_bytes = string_para_bytes(''.join([format(ord(l), 'x') for l in mensagem]))\n",
        "print('Bytes da mensagem:',mensagem_bytes)"
      ],
      "execution_count": 3759,
      "outputs": [
        {
          "output_type": "stream",
          "text": [
            "Bytes da mensagem: ['43', '72', '69', '70', '74', '6f', '67', '72', '61', '66', '69', '61', '20', 'e9', '20', '6d', '75', '69', '74', '6f', '20', '6c', '65', '67', '61', '6c', '21', '21', '20', '4f', '20', '6d', '65', '6c', '68', '6f', '72', '20', '6d', '65', '73', '6d', '6f', '20', 'e9', '20', '66', '61', '6c', '61', '72', '20', '62', '65', '73', '74', '65', '69', '72', '61', '20', '6e', '61', '20', '66', '72', '65', '6e', '74', '65', '20', '64', '65', '20', '74', '6f', '64', '6f', '20', '6d', '75', '6e', '64', '6f', '20', '65', '20', '6e', '69', '6e', '67', '75', 'e9', '6d', '20', '65', '6e', '74', '65', '6e', '64', '65', '72', '20', '6f', '20', '71', '75', '65', '20', '61', '20', '67', '65', '6e', '74', '65', '20', '74', 'e1', '20', '66', '61', '6c', '61', '6e', '64', '6f', '20', '72', '73', '72', '73', '72', '73']\n"
          ],
          "name": "stdout"
        }
      ]
    },
    {
      "cell_type": "code",
      "metadata": {
        "colab": {
          "base_uri": "https://localhost:8080/"
        },
        "id": "Wbapdnjr3xt1",
        "outputId": "f60eadb9-7c76-40cf-e3db-e26de45c5e86"
      },
      "source": [
        "print(\"Mensagem: %s\"%bytes_para_string(mensagem_bytes))"
      ],
      "execution_count": 3760,
      "outputs": [
        {
          "output_type": "stream",
          "text": [
            "Mensagem: Criptografia é muito legal!! O melhor mesmo é falar besteira na frente de todo mundo e ninguém entender o que a gente tá falando rsrsrs\n"
          ],
          "name": "stdout"
        }
      ]
    },
    {
      "cell_type": "code",
      "metadata": {
        "id": "2fmmyrgxpr4e"
      },
      "source": [
        "def rsa_criptografar(valor : int) -> int:\n",
        "  return pow(valor, e, n)"
      ],
      "execution_count": 3761,
      "outputs": []
    },
    {
      "cell_type": "code",
      "metadata": {
        "colab": {
          "base_uri": "https://localhost:8080/"
        },
        "id": "yYWen19jp8u3",
        "outputId": "05c67469-0e37-4d45-fd0a-fa9056868c2c"
      },
      "source": [
        "res = [rsa_criptografar(ord(l)) for l in mensagem]\n",
        "\n",
        "print('Caracteres criptografados:',res)"
      ],
      "execution_count": 3762,
      "outputs": [
        {
          "output_type": "stream",
          "text": [
            "Caracteres criptografados: [641, 2412, 3179, 612, 884, 2185, 2923, 2412, 1632, 1369, 3179, 1632, 1992, 1453, 1992, 2271, 2160, 3179, 884, 2185, 1992, 745, 1313, 2923, 1632, 745, 1853, 1853, 1992, 1307, 1992, 2271, 1313, 745, 2170, 2185, 2412, 1992, 2271, 1313, 1230, 2271, 2185, 1992, 1453, 1992, 1369, 1632, 745, 1632, 2412, 1992, 2570, 1313, 1230, 884, 1313, 3179, 2412, 1632, 1992, 2235, 1632, 1992, 1369, 2412, 1313, 2235, 884, 1313, 1992, 1773, 1313, 1992, 884, 2185, 1773, 2185, 1992, 2271, 2160, 2235, 1773, 2185, 1992, 1313, 1992, 2235, 3179, 2235, 2923, 2160, 1453, 2271, 1992, 1313, 2235, 884, 1313, 2235, 1773, 1313, 2412, 1992, 2185, 1992, 1627, 2160, 1313, 1992, 1632, 1992, 2923, 1313, 2235, 884, 1313, 1992, 884, 2008, 1992, 1369, 1632, 745, 1632, 2235, 1773, 2185, 1992, 2412, 1230, 2412, 1230, 2412, 1230]\n"
          ],
          "name": "stdout"
        }
      ]
    },
    {
      "cell_type": "markdown",
      "metadata": {
        "id": "7Hfluvjo9kG0"
      },
      "source": [
        ">Algumas informações interessantes"
      ]
    },
    {
      "cell_type": "code",
      "metadata": {
        "colab": {
          "base_uri": "https://localhost:8080/",
          "height": 129
        },
        "id": "CC5Uekm29jGQ",
        "outputId": "4ac57bac-7259-4466-f574-ac3e7aa5b294"
      },
      "source": [
        "#Vamos assumir que o valor de cada bloco é de 0 até 0xFFF\n",
        "string = ''+''.join([format(r, 'x') for r in res])\n",
        "\n",
        "#cada caracter varia de 0 até 0xFF\n",
        "mensagem_bytes = string_para_bytes(string)\n",
        "\n",
        "print(\"Bytes criptografado:\", mensagem_bytes)\n",
        "\n",
        "display(HTML('<h2>Mensagem criptografada: %s</h2>'%(bytes_para_string(mensagem_bytes))))"
      ],
      "execution_count": 3763,
      "outputs": [
        {
          "output_type": "stream",
          "text": [
            "Bytes criptografado: ['28', '19', '6c', 'c6', 'b2', '64', '37', '48', '89', 'b6', 'b9', '6c', '66', '05', '59', 'c6', 'b6', '60', '7c', '85', 'ad', '7c', '88', 'df', '87', '0c', '6b', '37', '48', '89', '7c', '82', 'e9', '52', '1b', '6b', '66', '02', 'e9', '73', 'd7', '3d', '7c', '85', '1b', '7c', '88', 'df', '52', '12', 'e9', '87', 'a8', '89', '96', 'c7', 'c8', '8d', 'f5', '21', '4c', 'e8', 'df', '88', '97', 'c8', '5a', 'd7', 'c8', '55', '96', '60', '2e', '96', '60', '96', 'c7', 'c8', 'a0', 'a5', '21', '4c', 'e3', '74', '52', '1c', '6b', '96', 'c6', '60', '7c', '88', 'bb', '66', '07', 'c8', '55', '99', '6c', '52', '18', 'bb', '37', '45', '21', '7c', '86', 'ed', '52', '17', 'c8', '37', '48', '89', '6e', 'd8', '89', '7c', '88', 'df', '87', '08', 'bb', '6e', 'd8', '89', '7c', '85', '21', '7c', '88', 'bb', 'c6', 'b8', 'bb', 'b6', 'b8', '70', '5a', 'd8', 'df', '7c', '85', '21', '8b', 'b3', '74', '52', '18', 'bb', '6e', 'd5', '21', '96', 'c7', 'c8', '88', '97', 'c8', '65', 'b8', '70', '52', '17', 'c8', '66', '07', 'c8', 'b6', 'b5', '21', '8b', 'b3', '74', '52', '17', 'c8', '37', '47', 'd8', '7c', '85', '59', '66', '02', 'e9', '66', '08', 'bb', '6e', 'd8', '89', '7c', '89', '6c', '4c', 'e9', '6c', '4c', 'e9', '6c', '4c', 'e0']\n"
          ],
          "name": "stdout"
        },
        {
          "output_type": "display_data",
          "data": {
            "text/html": [
              "<h2>Mensagem criptografada: (\u0019lÆ²d7H¶¹lf\u0005YÆ¶`|­|ß\fk7H|éR\u001bkf\u0002és×=|\u001b|ßR\u0012é¨ÇÈõ!LèßÈZ×ÈU`.`ÇÈ ¥!LãtR\u001ckÆ`|»f\u0007ÈUlR\u0018»7E!|íR\u0017È7HnØ|ß\b»nØ|!|»Æ¸»¶¸pZØß|!³tR\u0018»nÕ!ÇÈÈe¸pR\u0017Èf\u0007È¶µ!³tR\u0017È7GØ|Yf\u0002éf\b»nØ|lLélLélLà</h2>"
            ],
            "text/plain": [
              "<IPython.core.display.HTML object>"
            ]
          },
          "metadata": {
            "tags": []
          }
        }
      ]
    },
    {
      "cell_type": "code",
      "metadata": {
        "id": "OYYe0w8dp_2X"
      },
      "source": [
        "def rsa_descriptografar(valor : int) -> int:\n",
        "  return pow(valor, d, n)"
      ],
      "execution_count": 3764,
      "outputs": []
    },
    {
      "cell_type": "code",
      "metadata": {
        "colab": {
          "base_uri": "https://localhost:8080/",
          "height": 103
        },
        "id": "oBsQV8b_-JOz",
        "outputId": "e35d91f9-bfb7-43fa-81f6-70d1ebb6f64a"
      },
      "source": [
        "#Descriptografa\n",
        "mensagem_bytes = [rsa_descriptografar(l) for l in res]\n",
        "\n",
        "#Converte de inteiro para hex, para melhor visualização\n",
        "mensagem_bytes = [format(l,'x') for l in mensagem_bytes]\n",
        "\n",
        "print(\"Bytes descriptografados:\", mensagem_bytes)\n",
        "\n",
        "display(HTML('<h2>Mensagem descriptografada: %s</h2>'%(bytes_para_string(mensagem_bytes))))"
      ],
      "execution_count": 3765,
      "outputs": [
        {
          "output_type": "stream",
          "text": [
            "Bytes descriptografados: ['43', '72', '69', '70', '74', '6f', '67', '72', '61', '66', '69', '61', '20', 'e9', '20', '6d', '75', '69', '74', '6f', '20', '6c', '65', '67', '61', '6c', '21', '21', '20', '4f', '20', '6d', '65', '6c', '68', '6f', '72', '20', '6d', '65', '73', '6d', '6f', '20', 'e9', '20', '66', '61', '6c', '61', '72', '20', '62', '65', '73', '74', '65', '69', '72', '61', '20', '6e', '61', '20', '66', '72', '65', '6e', '74', '65', '20', '64', '65', '20', '74', '6f', '64', '6f', '20', '6d', '75', '6e', '64', '6f', '20', '65', '20', '6e', '69', '6e', '67', '75', 'e9', '6d', '20', '65', '6e', '74', '65', '6e', '64', '65', '72', '20', '6f', '20', '71', '75', '65', '20', '61', '20', '67', '65', '6e', '74', '65', '20', '74', 'e1', '20', '66', '61', '6c', '61', '6e', '64', '6f', '20', '72', '73', '72', '73', '72', '73']\n"
          ],
          "name": "stdout"
        },
        {
          "output_type": "display_data",
          "data": {
            "text/html": [
              "<h2>Mensagem descriptografada: Criptografia é muito legal!! O melhor mesmo é falar besteira na frente de todo mundo e ninguém entender o que a gente tá falando rsrsrs</h2>"
            ],
            "text/plain": [
              "<IPython.core.display.HTML object>"
            ]
          },
          "metadata": {
            "tags": []
          }
        }
      ]
    },
    {
      "cell_type": "markdown",
      "metadata": {
        "id": "XNzUZI8bAxVq"
      },
      "source": [
        "#Código em uma célula"
      ]
    },
    {
      "cell_type": "code",
      "metadata": {
        "id": "s9YoodiWAzDk"
      },
      "source": [
        "import random\n",
        "import math\n",
        "\n",
        "class RSAFactory():\n",
        "  \n",
        "  #Métodos privados\n",
        "  def __mdc(a : int, b : int) -> int:\n",
        "    while b != 0:\n",
        "      a,b = b, a%b\n",
        "    return a\n",
        "  def __mmc(a : int, b : int) -> int:\n",
        "    return a*b // mdc(a,b)\n",
        "  def __ϕ(p : int, q : int) -> int:\n",
        "    return mmc(p - 1,q - 1)\n",
        "\n",
        "  def __coprimo(phi_n) -> list:\n",
        "    #A busca começa em 2, uma vez que todo numero é divisível por 1\n",
        "    e = 2\n",
        "    res = []\n",
        "    while e < phi_n:\n",
        "      if ( RSAFactory.__mdc(e, phi_n) == 1 ):\n",
        "        res.append(e)\n",
        "      e+= 1\n",
        "    return res\n",
        "\n",
        "  def __mdce(a : int, b : int) -> tuple:\n",
        "    if (a == 0):\n",
        "      return 0,1,b\n",
        "    \n",
        "    x, y, mdc_ = RSAFactory.__mdce( b % a, a)\n",
        "\n",
        "    return y - (b//a) * x, x, mdc_\n",
        "\n",
        "  def FabricarRSA( p: int, q: int, indice_e: int) -> tuple:\n",
        "    n = p * q\n",
        "\n",
        "    phi_n = RSAFactory.__ϕ(p,q)\n",
        "\n",
        "    es = RSAFactory.__coprimo(phi_n)\n",
        "\n",
        "    #se indice_e for negativo, escolhe um aleatorio\n",
        "    if(indice_e < 0):\n",
        "      e = random.choice(es)\n",
        "    else:\n",
        "      e = es[indice_e]\n",
        "\n",
        "    d,_,_ = RSAFactory.__mdce(e, phi_n)\n",
        "\n",
        "    if (d < 0):\n",
        "      d += phi_n\n",
        "    \n",
        "    #ignora sempre o 0x... que conta como 2 caracteres\n",
        "    tamanho_bloco = len(hex(n))-2\n",
        "    return (n,e,d,tamanho_bloco)\n",
        "  \n",
        "class RSA():\n",
        "  def __init__(self, exp : int, mod : int, tamanho_bloco : int):\n",
        "    self._exp = exp\n",
        "    self._mod = mod\n",
        "    self._tamanho_bloco = tamanho_bloco\n",
        "\n",
        "  def __separa_string(self, string :str, janela : int, padding : bool) -> list:\n",
        "    #Se a string não for multiplo de janela, faz um padding no final\n",
        "    if(padding):\n",
        "      tamanho_padding = len(string)%janela\n",
        "      if(tamanho_padding != 0):\n",
        "        string += '0'*(janela-tamanho_padding)\n",
        "    return [int(string[i-janela:i],16) for i in range(janela, len(string)+janela, janela)]\n",
        "\n",
        "  def _hex_para_bytes(self, string :str) -> list:\n",
        "    return self.__separa_string(string, 2, True)\n",
        "\n",
        "  def _bytestream_para_int(self,byte_stream : str) -> list:\n",
        "    return self.__separa_string(byte_stream, self._tamanho_bloco, False)\n",
        "\n",
        "  def _operacao(self, valor : int) -> int:\n",
        "    return pow(valor, self._exp, self._mod)\n",
        "\n",
        "class RSAPrivado(RSA):\n",
        "  def __init__(self, n : int, d: int, tamanho_bloco : int):\n",
        "    RSA.__init__(self,d,n,tamanho_bloco)\n",
        "\n",
        "  def criptografar(self, mensagem : str) -> bytes:\n",
        "    #Converte char para int, criptografa e converte o resultado para hex\n",
        "    criptografado = [\"%02x\"%(self._operacao(ord(l))) for l in mensagem]\n",
        "    criptografado = ''.join(criptografado) \n",
        "    return bytes(self._hex_para_bytes(criptografado))\n",
        "\n",
        "class RSAPublico(RSA):\n",
        "  def __init__(self, n : int, e: int, tamanho_bloco : int):\n",
        "    RSA.__init__(self,e,n,tamanho_bloco)\n",
        "\n",
        "  def descriptografar(self, mensagem : bytes) -> list:\n",
        "    #Converte de byte para hex, desfazendo a primeira operação na criptografia\n",
        "    mensagem = [\"%02x\"%(v) for v in mensagem]\n",
        "    mensagem = ''.join(mensagem)\n",
        "    criptografado = self._bytestream_para_int(mensagem)\n",
        "    descriptografado = [self._operacao(l) for l in criptografado] \n",
        "    \"\"\"\n",
        "    Ao criptografar, foi determinado um protocolo onde, caso o numero de bytes\n",
        "    seja impar (um byte é representado por uma dupla de caracteres), deve-se \n",
        "    adicionar um valor 'dummy' (no caso, 0) no final da string.    \n",
        "    \"\"\"\n",
        "    if( int (descriptografado[-1]) == 0):\n",
        "      descriptografado = descriptografado[:-1]\n",
        "    return descriptografado"
      ],
      "execution_count": 3766,
      "outputs": []
    },
    {
      "cell_type": "code",
      "metadata": {
        "colab": {
          "base_uri": "https://localhost:8080/"
        },
        "id": "9k2P6W8fc4-y",
        "outputId": "f2735f10-be74-495d-88aa-940bee1a9095"
      },
      "source": [
        "n, e, d, tamanho_bloco = RSAFactory.FabricarRSA(p,q,indice_e)\n",
        "print(\"n = %d, e = %d, d = %d\"%(n, e, d))\n",
        "print(\"Tamanho do bloco: %d\"%tamanho_bloco)\n",
        "\n",
        "modulo_criptografia_privado = RSAPrivado(n, e, tamanho_bloco)\n",
        "modulo_criptografia_publico = RSAPublico(n, d, tamanho_bloco)\n",
        "\n",
        "mesangem_criptografada = modulo_criptografia_privado.criptografar('Guilherme')\n",
        "print('Stream de bytes criptografados:',mesangem_criptografada)\n",
        "\n",
        "mensagem_descriptografada = modulo_criptografia_publico.descriptografar(mesangem_criptografada)\n",
        "mensagem_descriptografada = ''.join([chr(l) for l in mensagem_descriptografada])\n",
        "print('Stream de bytes descriptografados:',mensagem_descriptografada)"
      ],
      "execution_count": 3767,
      "outputs": [
        {
          "output_type": "stream",
          "text": [
            "n = 3233, e = 17, d = 413\n",
            "Tamanho do bloco: 3\n",
            "Stream de bytes criptografados: b')\\xd8p\\xc6\\xb2\\xe9\\x87\\xa5!\\x96\\xc8\\xdfR\\x10'\n",
            "Stream de bytes descriptografados: Guilherme\n"
          ],
          "name": "stdout"
        }
      ]
    }
  ]
}