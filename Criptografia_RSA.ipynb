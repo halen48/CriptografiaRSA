{
  "nbformat": 4,
  "nbformat_minor": 0,
  "metadata": {
    "colab": {
      "name": "Criptografia RSA.ipynb",
      "provenance": [],
      "collapsed_sections": [
        "quEYObi8PLiN",
        "gegfrwMDR45g"
      ],
      "authorship_tag": "ABX9TyMQn5xvwnL7aTwtVOoCGt71",
      "include_colab_link": true
    },
    "kernelspec": {
      "name": "python3",
      "display_name": "Python 3"
    },
    "language_info": {
      "name": "python"
    }
  },
  "cells": [
    {
      "cell_type": "markdown",
      "metadata": {
        "id": "view-in-github",
        "colab_type": "text"
      },
      "source": [
        "<a href=\"https://colab.research.google.com/github/halen48/CriptografiaRSA/blob/main/Criptografia_RSA.ipynb\" target=\"_parent\"><img src=\"https://colab.research.google.com/assets/colab-badge.svg\" alt=\"Open In Colab\"/></a>"
      ]
    },
    {
      "cell_type": "code",
      "metadata": {
        "id": "ltABcbe4OE9c",
        "cellView": "form"
      },
      "source": [
        "#@title Dependências\n",
        "import random\n",
        "import math\n",
        "from IPython.core.display import display, HTML"
      ],
      "execution_count": 59,
      "outputs": []
    },
    {
      "cell_type": "markdown",
      "metadata": {
        "id": "kH5IEH3vJHmS"
      },
      "source": [
        "#<a href=\"https://pt.wikipedia.org/wiki/M%C3%A1ximo_divisor_comum\">Máximo divisor comum (MDC) </a>"
      ]
    },
    {
      "cell_type": "code",
      "metadata": {
        "id": "Xz5udVqII-FN",
        "cellView": "form"
      },
      "source": [
        "#@title <a href=\"https://pt.wikipedia.org/wiki/Algoritmo_de_Euclides\"> Algoritmo euclidiano </a>\n",
        "def mdc(a : int, b : int) -> int:\n",
        "  while b != 0:\n",
        "    a,b = b, a%b\n",
        "  return a"
      ],
      "execution_count": 60,
      "outputs": []
    },
    {
      "cell_type": "markdown",
      "metadata": {
        "id": "_wEpxs4MNhqp"
      },
      "source": [
        "#Chave pública"
      ]
    },
    {
      "cell_type": "markdown",
      "metadata": {
        "id": "R5qD7TZeMgak"
      },
      "source": [
        ">Escolha dois números primos, p e q, e mantenha-os em segredo"
      ]
    },
    {
      "cell_type": "code",
      "metadata": {
        "id": "Ao6NW-bDMm9L",
        "cellView": "form"
      },
      "source": [
        "'''\n",
        "#p_q_indice_e = (111,7,-1) #@param {type:\"raw\"}\n",
        "p = p_q_indice_e[0]\n",
        "q = p_q_indice_e[1]\n",
        "\n",
        "indice_e = p_q_indice_e[2]  \n",
        "'''\n",
        "p = \"373\" #@param [2, 3, 5, 7, 11, 13, 17, 19, 23, 29, 31, 37, 41, 43, 47, 53, 59, 61, 67, 71, 73, 79, 83, 89, 97, 101, 103, 107, 109, 113, 127, 131, 137, 139, 149, 151, 157, 163, 167, 173, 179, 181, 191, 193, 197, 199, 211, 223, 227, 229, 233, 239, 241, 251, 257, 263, 269, 271, 277, 281, 283, 293, 307, 311, 313, 317, 331, 337, 347, 349, 353, 359, 367, 373, 379, 383, 389, 397, 401, 409, 419, 421, 431, 433, 439, 443, 449, 457, 461, 463, 467, 479, 487, 491, 499, 503, 509, 521, 523, 541, 547, 105646155480762397, 439351292910452432574786963588089477522344331]\n",
        "q = \"37\" #@param [2, 3, 5, 7, 11, 13, 17, 19, 23, 29, 31, 37, 41, 43, 47, 53, 59, 61, 67, 71, 73, 79, 83, 89, 97, 101, 103, 107, 109, 113, 127, 131, 137, 139, 149, 151, 157, 163, 167, 173, 179, 181, 191, 193, 197, 199, 211, 223, 227, 229, 233, 239, 241, 251, 257, 263, 269, 271, 277, 281, 283, 293, 307, 311, 313, 317, 331, 337, 347, 349, 353, 359, 367, 373, 379, 383, 389, 397, 401, 409, 419, 421, 431, 433, 439, 443, 449, 457, 461, 463, 467, 479, 487, 491, 499, 503, 509, 521, 523, 541, 547, 105646155480762397, 864608136454559457049]\n",
        "indice_e =  -1#@param {type:\"raw\"}\n",
        "p,q = int(p),int(q)"
      ],
      "execution_count": 61,
      "outputs": []
    },
    {
      "cell_type": "markdown",
      "metadata": {
        "id": "ipanm1OpM9qc"
      },
      "source": [
        " >Calcula a chave pública **n**, sendo\n",
        " ```\n",
        " n = p⋅q\n",
        " ```"
      ]
    },
    {
      "cell_type": "code",
      "metadata": {
        "id": "_U63fl9rNMW9"
      },
      "source": [
        "n = p * q"
      ],
      "execution_count": 62,
      "outputs": []
    },
    {
      "cell_type": "code",
      "metadata": {
        "colab": {
          "base_uri": "https://localhost:8080/",
          "height": 64
        },
        "id": "d1qFDY78W1-6",
        "outputId": "a40dafeb-34a3-497d-86c7-99ad54fc7362"
      },
      "source": [
        "display(HTML('<h2>n = %d</h2>'%(n)))"
      ],
      "execution_count": 63,
      "outputs": [
        {
          "output_type": "display_data",
          "data": {
            "text/html": [
              "<h2>n = 13801</h2>"
            ],
            "text/plain": [
              "<IPython.core.display.HTML object>"
            ]
          },
          "metadata": {}
        }
      ]
    },
    {
      "cell_type": "markdown",
      "metadata": {
        "id": "6JI6HhHiMwZz"
      },
      "source": [
        "#Calcula ϕ(n)"
      ]
    },
    {
      "cell_type": "markdown",
      "metadata": {
        "id": "yIdD_b0eKWpD"
      },
      "source": [
        "Sendo:\n",
        "```\n",
        "n = p⋅q\n",
        "ϕ(n) = lcm(ϕ(p),ϕ(q))\n",
        "p e q são primos\n",
        "```"
      ]
    },
    {
      "cell_type": "markdown",
      "metadata": {
        "id": "AecRm12NMPrr"
      },
      "source": [
        "Assim:\n",
        "```\n",
        "ϕ(n) = mdc(p − 1, q − 1)\n",
        "```"
      ]
    },
    {
      "cell_type": "code",
      "metadata": {
        "id": "KLfKm8YeYBLI"
      },
      "source": [
        "def mmc(a : int, b : int) -> int:\n",
        "  return a*b // mdc(a,b)"
      ],
      "execution_count": 64,
      "outputs": []
    },
    {
      "cell_type": "code",
      "metadata": {
        "id": "dK5Gdi60KXIa"
      },
      "source": [
        "def ϕ(p : int, q : int) -> int:\n",
        "  return mmc(p - 1,q - 1)"
      ],
      "execution_count": 65,
      "outputs": []
    },
    {
      "cell_type": "code",
      "metadata": {
        "id": "wvWNOIZOXSeP"
      },
      "source": [
        "phi_n = ϕ(p,q)"
      ],
      "execution_count": 66,
      "outputs": []
    },
    {
      "cell_type": "code",
      "metadata": {
        "colab": {
          "base_uri": "https://localhost:8080/",
          "height": 64
        },
        "id": "6csBuTu3XT7f",
        "outputId": "2338ab5b-41b4-467c-ca61-dcd1b0b5f0b5"
      },
      "source": [
        "display(HTML('<h2>ϕ(%d) = %d</h2>'%((p*q),phi_n)))"
      ],
      "execution_count": 67,
      "outputs": [
        {
          "output_type": "display_data",
          "data": {
            "text/html": [
              "<h2>ϕ(13801) = 1116</h2>"
            ],
            "text/plain": [
              "<IPython.core.display.HTML object>"
            ]
          },
          "metadata": {}
        }
      ]
    },
    {
      "cell_type": "markdown",
      "metadata": {
        "id": "quEYObi8PLiN"
      },
      "source": [
        "#<a href=\"https://www.mathsisfun.com/numbers/coprime-calculator.html\">Coprimo</a>"
      ]
    },
    {
      "cell_type": "markdown",
      "metadata": {
        "id": "_dHDTmnoPTRc"
      },
      "source": [
        ">Calcula um número inteiro ***e***, parte da chave pública, onde:\n",
        "```\n",
        "1 < e < ϕ(n) \n",
        "mdc(e, ϕ(n)) = 1;\n",
        "```\n",
        "Isto é, ***e*** é um número coprimo de ***ϕ(n)***"
      ]
    },
    {
      "cell_type": "code",
      "metadata": {
        "id": "5-0Uk8aKPSx8"
      },
      "source": [
        "def coprimo(phi_n : int) -> list:\n",
        "  #A busca começa em 2, uma vez que todo numero é divisível por 1\n",
        "  e = 2\n",
        "  res = []\n",
        "  while e < phi_n:\n",
        "    if ( mdc(e, phi_n) == 1 ):\n",
        "      res.append(e)\n",
        "    e+= 1\n",
        "  return res"
      ],
      "execution_count": 68,
      "outputs": []
    },
    {
      "cell_type": "code",
      "metadata": {
        "id": "5LWTWba_Q8PO"
      },
      "source": [
        "es = coprimo(phi_n)\n",
        "if(indice_e < 0):\n",
        "  e = random.choice(es)\n",
        "else:\n",
        "  e = es[indice_e]"
      ],
      "execution_count": 69,
      "outputs": []
    },
    {
      "cell_type": "code",
      "metadata": {
        "colab": {
          "base_uri": "https://localhost:8080/",
          "height": 0
        },
        "id": "hsxXmmMIWvZ3",
        "outputId": "ca36f3de-9d1e-4e13-84cf-47ba29143bcc"
      },
      "source": [
        "display(HTML('<h3>Coprimos de %d: %s</h3>'%(phi_n, es)))\n",
        "display(HTML('<h2>e = %d</h2>'%(e)))\n"
      ],
      "execution_count": 70,
      "outputs": [
        {
          "output_type": "display_data",
          "data": {
            "text/html": [
              "<h3>Coprimos de 1116: [5, 7, 11, 13, 17, 19, 23, 25, 29, 35, 37, 41, 43, 47, 49, 53, 55, 59, 61, 65, 67, 71, 73, 77, 79, 83, 85, 89, 91, 95, 97, 101, 103, 107, 109, 113, 115, 119, 121, 125, 127, 131, 133, 137, 139, 143, 145, 149, 151, 157, 161, 163, 167, 169, 173, 175, 179, 181, 185, 187, 191, 193, 197, 199, 203, 205, 209, 211, 215, 221, 223, 227, 229, 233, 235, 239, 241, 245, 247, 251, 253, 257, 259, 263, 265, 269, 271, 275, 277, 281, 283, 287, 289, 293, 295, 299, 301, 305, 307, 311, 313, 317, 319, 323, 325, 329, 331, 335, 337, 343, 347, 349, 353, 355, 359, 361, 365, 367, 371, 373, 377, 379, 383, 385, 389, 391, 395, 397, 401, 407, 409, 413, 415, 419, 421, 425, 427, 431, 433, 437, 439, 443, 445, 449, 451, 455, 457, 461, 463, 467, 469, 473, 475, 479, 481, 485, 487, 491, 493, 497, 499, 503, 505, 509, 511, 515, 517, 521, 523, 529, 533, 535, 539, 541, 545, 547, 551, 553, 557, 559, 563, 565, 569, 571, 575, 577, 581, 583, 587, 593, 595, 599, 601, 605, 607, 611, 613, 617, 619, 623, 625, 629, 631, 635, 637, 641, 643, 647, 649, 653, 655, 659, 661, 665, 667, 671, 673, 677, 679, 683, 685, 689, 691, 695, 697, 701, 703, 707, 709, 715, 719, 721, 725, 727, 731, 733, 737, 739, 743, 745, 749, 751, 755, 757, 761, 763, 767, 769, 773, 779, 781, 785, 787, 791, 793, 797, 799, 803, 805, 809, 811, 815, 817, 821, 823, 827, 829, 833, 835, 839, 841, 845, 847, 851, 853, 857, 859, 863, 865, 869, 871, 875, 877, 881, 883, 887, 889, 893, 895, 901, 905, 907, 911, 913, 917, 919, 923, 925, 929, 931, 935, 937, 941, 943, 947, 949, 953, 955, 959, 965, 967, 971, 973, 977, 979, 983, 985, 989, 991, 995, 997, 1001, 1003, 1007, 1009, 1013, 1015, 1019, 1021, 1025, 1027, 1031, 1033, 1037, 1039, 1043, 1045, 1049, 1051, 1055, 1057, 1061, 1063, 1067, 1069, 1073, 1075, 1079, 1081, 1087, 1091, 1093, 1097, 1099, 1103, 1105, 1109, 1111, 1115]</h3>"
            ],
            "text/plain": [
              "<IPython.core.display.HTML object>"
            ]
          },
          "metadata": {}
        },
        {
          "output_type": "display_data",
          "data": {
            "text/html": [
              "<h2>e = 733</h2>"
            ],
            "text/plain": [
              "<IPython.core.display.HTML object>"
            ]
          },
          "metadata": {}
        }
      ]
    },
    {
      "cell_type": "markdown",
      "metadata": {
        "id": "gegfrwMDR45g"
      },
      "source": [
        "#Inverso multiplicativo modular"
      ]
    },
    {
      "cell_type": "markdown",
      "metadata": {
        "id": "SWa2bFwWR6KV"
      },
      "source": [
        ">Sendo:\n",
        "```\n",
        "d⋅e ≡ 1 (mod ϕ(n)); \n",
        "```\n",
        "Logo:\n",
        "```\n",
        "d ≡ e^−1 (mod ϕ(n))\n",
        "```"
      ]
    },
    {
      "cell_type": "code",
      "metadata": {
        "id": "wQJ5-I7tR4E9",
        "cellView": "form"
      },
      "source": [
        "#@title <a href=\"https://pt.wikipedia.org/wiki/Algoritmo_de_Euclides_estendido\"> Algoritmo Euclidiano Estendido </a>\n",
        "def mdce(a : int, b : int) -> tuple:\n",
        "  if (a == 0):\n",
        "    return 0,1,b\n",
        "  \n",
        "  x, y, mdc_ = mdce( b % a, a)\n",
        "\n",
        "  return y - (b//a) * x, x, mdc_"
      ],
      "execution_count": 71,
      "outputs": []
    },
    {
      "cell_type": "code",
      "metadata": {
        "id": "XBkW_aFCWjEn"
      },
      "source": [
        "r_mdce = mdce(e, phi_n)\n",
        "d = r_mdce[0]\n",
        "if(d < 0):\n",
        "  d += phi_n"
      ],
      "execution_count": 72,
      "outputs": []
    },
    {
      "cell_type": "code",
      "metadata": {
        "colab": {
          "base_uri": "https://localhost:8080/",
          "height": 0
        },
        "id": "jKeIz_jPXGEa",
        "outputId": "bcc1d3f7-95b8-4ac3-8690-45bf2dea4173"
      },
      "source": [
        "display(HTML('<h2>%d ≡ (%d^-1 * mod %d)</h2>'%(d, e, phi_n)))\n",
        "display(HTML(\"<h2> %d * %d + %d * %d = %d </h2>\"%(e, r_mdce[0], phi_n, r_mdce[1], r_mdce[2])))"
      ],
      "execution_count": 73,
      "outputs": [
        {
          "output_type": "display_data",
          "data": {
            "text/html": [
              "<h2>169 ≡ (733^-1 * mod 1116)</h2>"
            ],
            "text/plain": [
              "<IPython.core.display.HTML object>"
            ]
          },
          "metadata": {}
        },
        {
          "output_type": "display_data",
          "data": {
            "text/html": [
              "<h2> 733 * 169 + 1116 * -111 = 1 </h2>"
            ],
            "text/plain": [
              "<IPython.core.display.HTML object>"
            ]
          },
          "metadata": {}
        }
      ]
    },
    {
      "cell_type": "markdown",
      "metadata": {
        "id": "ktiRNdYzZZd4"
      },
      "source": [
        "#Chaves"
      ]
    },
    {
      "cell_type": "code",
      "metadata": {
        "colab": {
          "base_uri": "https://localhost:8080/",
          "height": 195
        },
        "id": "6cpOIDtYZYiS",
        "outputId": "c2a39a0a-1d68-40ba-f059-334b6f62fab4"
      },
      "source": [
        "display(HTML('<h2>n, e, d: (%d, %d, %d)</h2>'%(n, e, d)))\n",
        "display(HTML('<h2>Chave Pública: (%d, %d)</h2>'%(n, e)))\n",
        "display(HTML('<h2>Chave Privada: (%d, %d)</h2>'%(n, d)))\n",
        "display(HTML('<h2>Numero de caracteres (Tamanho do bloco) do byte criptografado: %d</h2>'%(len(format(n,\"x\")))))"
      ],
      "execution_count": 74,
      "outputs": [
        {
          "output_type": "display_data",
          "data": {
            "text/html": [
              "<h2>n, e, d: (13801, 733, 169)</h2>"
            ],
            "text/plain": [
              "<IPython.core.display.HTML object>"
            ]
          },
          "metadata": {}
        },
        {
          "output_type": "display_data",
          "data": {
            "text/html": [
              "<h2>Chave Pública: (13801, 733)</h2>"
            ],
            "text/plain": [
              "<IPython.core.display.HTML object>"
            ]
          },
          "metadata": {}
        },
        {
          "output_type": "display_data",
          "data": {
            "text/html": [
              "<h2>Chave Privada: (13801, 169)</h2>"
            ],
            "text/plain": [
              "<IPython.core.display.HTML object>"
            ]
          },
          "metadata": {}
        },
        {
          "output_type": "display_data",
          "data": {
            "text/html": [
              "<h2>Numero de caracteres (Tamanho do bloco) do byte criptografado: 4</h2>"
            ],
            "text/plain": [
              "<IPython.core.display.HTML object>"
            ]
          },
          "metadata": {}
        }
      ]
    },
    {
      "cell_type": "markdown",
      "metadata": {
        "id": "sTUHmpmNppI5"
      },
      "source": [
        "#Codificando"
      ]
    },
    {
      "cell_type": "code",
      "metadata": {
        "id": "eK6gO_eT2EQk"
      },
      "source": [
        "def separa_string(string :str, janela : int, padding : bool) -> list:\n",
        "  #Se a string não for multiplo de janela, faz um padding no final\n",
        "  if(padding):\n",
        "    tamanho_padding = len(string)%janela\n",
        "    if(tamanho_padding != 0):\n",
        "      string += '0'*(janela-tamanho_padding)\n",
        "  return [string[i-janela:i] for i in range(janela, len(string)+janela, janela)]"
      ],
      "execution_count": 75,
      "outputs": []
    },
    {
      "cell_type": "code",
      "metadata": {
        "id": "1NiZJQMc6d-u"
      },
      "source": [
        "def string_para_bytes(string :str) -> list:\n",
        "  return separa_string(string, 2, True)"
      ],
      "execution_count": 76,
      "outputs": []
    },
    {
      "cell_type": "code",
      "metadata": {
        "id": "zS0PAA783nv1"
      },
      "source": [
        "def bytes_para_string(mensagem_bytes : str) -> str:\n",
        "  return ''.join([chr(int(b,16)) for b in mensagem_bytes])"
      ],
      "execution_count": 77,
      "outputs": []
    },
    {
      "cell_type": "code",
      "metadata": {
        "cellView": "form",
        "id": "0pXJlJ24pqkn"
      },
      "source": [
        "mensagem = \"Eu gosto de criptografia\" #@param {type:\"string\"}"
      ],
      "execution_count": 78,
      "outputs": []
    },
    {
      "cell_type": "code",
      "metadata": {
        "colab": {
          "base_uri": "https://localhost:8080/"
        },
        "id": "ulHtTbYc2QNU",
        "outputId": "25328021-fc39-4a8c-927c-21f431ffbe5d"
      },
      "source": [
        "mensagem_bytes = string_para_bytes(''.join([format(ord(l), 'x') for l in mensagem]))\n",
        "print('Bytes da mensagem:',mensagem_bytes)"
      ],
      "execution_count": 79,
      "outputs": [
        {
          "output_type": "stream",
          "text": [
            "Bytes da mensagem: ['45', '75', '20', '67', '6f', '73', '74', '6f', '20', '64', '65', '20', '63', '72', '69', '70', '74', '6f', '67', '72', '61', '66', '69', '61']\n"
          ],
          "name": "stdout"
        }
      ]
    },
    {
      "cell_type": "code",
      "metadata": {
        "colab": {
          "base_uri": "https://localhost:8080/"
        },
        "id": "Wbapdnjr3xt1",
        "outputId": "3166800a-8714-4b9a-bfc4-4a9a7dc74c4f"
      },
      "source": [
        "print(\"Mensagem: %s\"%bytes_para_string(mensagem_bytes))"
      ],
      "execution_count": 80,
      "outputs": [
        {
          "output_type": "stream",
          "text": [
            "Mensagem: Eu gosto de criptografia\n"
          ],
          "name": "stdout"
        }
      ]
    },
    {
      "cell_type": "code",
      "metadata": {
        "id": "2fmmyrgxpr4e"
      },
      "source": [
        "def rsa_criptografar(valor : int) -> int:\n",
        "  return pow(valor, e, n)"
      ],
      "execution_count": 81,
      "outputs": []
    },
    {
      "cell_type": "code",
      "metadata": {
        "colab": {
          "base_uri": "https://localhost:8080/"
        },
        "id": "yYWen19jp8u3",
        "outputId": "b7c825b4-de02-4ac6-c17f-8f275a7d6b9a"
      },
      "source": [
        "res = [rsa_criptografar(ord(l)) for l in mensagem]\n",
        "\n",
        "print('Caracteres criptografados:',res)"
      ],
      "execution_count": 82,
      "outputs": [
        {
          "output_type": "stream",
          "text": [
            "Caracteres criptografados: [8275, 8923, 10273, 5098, 4292, 7699, 1604, 4292, 10273, 6760, 7279, 10273, 9530, 10723, 5063, 11841, 1604, 4292, 5098, 10723, 8718, 7166, 5063, 8718]\n"
          ],
          "name": "stdout"
        }
      ]
    },
    {
      "cell_type": "markdown",
      "metadata": {
        "id": "7Hfluvjo9kG0"
      },
      "source": [
        ">Algumas informações interessantes"
      ]
    },
    {
      "cell_type": "code",
      "metadata": {
        "colab": {
          "base_uri": "https://localhost:8080/",
          "height": 103
        },
        "id": "CC5Uekm29jGQ",
        "outputId": "47c16d04-bf26-4146-da81-3338dc39ea3b"
      },
      "source": [
        "#Vamos assumir que o valor de cada bloco é de 0 até 0xFFF\n",
        "string = ''+''.join([format(r, 'x') for r in res])\n",
        "\n",
        "#cada caracter varia de 0 até 0xFF\n",
        "mensagem_bytes = string_para_bytes(string)\n",
        "\n",
        "print(\"Bytes criptografado:\", mensagem_bytes)\n",
        "\n",
        "display(HTML('<h2>Mensagem criptografada: %s</h2>'%(bytes_para_string(mensagem_bytes))))"
      ],
      "execution_count": 83,
      "outputs": [
        {
          "output_type": "stream",
          "text": [
            "Bytes criptografado: ['20', '53', '22', 'db', '28', '21', '13', 'ea', '10', 'c4', '1e', '13', '64', '41', '0c', '42', '82', '11', 'a6', '81', 'c6', 'f2', '82', '12', '53', 'a2', '9e', '31', '3c', '72', 'e4', '16', '44', '10', 'c4', '13', 'ea', '29', 'e3', '22', '0e', '1b', 'fe', '13', 'c7', '22', '0e']\n"
          ],
          "name": "stdout"
        },
        {
          "output_type": "display_data",
          "data": {
            "text/html": [
              "<h2>Mensagem criptografada:  S\"Û(!\u0013ê\u0010Ä\u001e\u0013dA\fB\u0011¦Æò\u0012S¢1<rä\u0016D\u0010Ä\u0013ê)ã\"\u000e\u001bþ\u0013Ç\"\u000e</h2>"
            ],
            "text/plain": [
              "<IPython.core.display.HTML object>"
            ]
          },
          "metadata": {}
        }
      ]
    },
    {
      "cell_type": "code",
      "metadata": {
        "id": "OYYe0w8dp_2X"
      },
      "source": [
        "def rsa_descriptografar(valor : int) -> int:\n",
        "  return pow(valor, d, n)"
      ],
      "execution_count": 84,
      "outputs": []
    },
    {
      "cell_type": "code",
      "metadata": {
        "colab": {
          "base_uri": "https://localhost:8080/",
          "height": 83
        },
        "id": "oBsQV8b_-JOz",
        "outputId": "a3fbc317-c944-4c9d-8439-de519665cfa5"
      },
      "source": [
        "#Descriptografa\n",
        "mensagem_bytes = [rsa_descriptografar(l) for l in res]\n",
        "\n",
        "#Converte de inteiro para hex, para melhor visualização\n",
        "mensagem_bytes = [format(l,'x') for l in mensagem_bytes]\n",
        "\n",
        "print(\"Bytes descriptografados:\", mensagem_bytes)\n",
        "\n",
        "display(HTML('<h2>Mensagem descriptografada: %s</h2>'%(bytes_para_string(mensagem_bytes))))"
      ],
      "execution_count": 85,
      "outputs": [
        {
          "output_type": "stream",
          "text": [
            "Bytes descriptografados: ['45', '75', '20', '67', '6f', '73', '74', '6f', '20', '64', '65', '20', '63', '72', '69', '70', '74', '6f', '67', '72', '61', '66', '69', '61']\n"
          ],
          "name": "stdout"
        },
        {
          "output_type": "display_data",
          "data": {
            "text/html": [
              "<h2>Mensagem descriptografada: Eu gosto de criptografia</h2>"
            ],
            "text/plain": [
              "<IPython.core.display.HTML object>"
            ]
          },
          "metadata": {}
        }
      ]
    },
    {
      "cell_type": "markdown",
      "metadata": {
        "id": "XNzUZI8bAxVq"
      },
      "source": [
        "#Código em uma célula"
      ]
    },
    {
      "cell_type": "code",
      "metadata": {
        "id": "s9YoodiWAzDk"
      },
      "source": [
        "import random\n",
        "import math\n",
        "\n",
        "class RSAFactory():\n",
        "  \n",
        "  #Métodos privados\n",
        "  def __mdc(a : int, b : int) -> int:\n",
        "    while b != 0:\n",
        "      a,b = b, a%b\n",
        "    return a\n",
        "  def __mmc(a : int, b : int) -> int:\n",
        "    return a*b // mdc(a,b)\n",
        "  def __ϕ(p : int, q : int) -> int:\n",
        "    return mmc(p - 1,q - 1)\n",
        "\n",
        "  def __coprimo(phi_n) -> list:\n",
        "    #A busca começa em 2, uma vez que todo numero é divisível por 1\n",
        "    e = 2\n",
        "    res = []\n",
        "    while e < phi_n:\n",
        "      if ( RSAFactory.__mdc(e, phi_n) == 1 ):\n",
        "        res.append(e)\n",
        "      e+= 1\n",
        "    return res\n",
        "\n",
        "  def __mdce(a : int, b : int) -> tuple:\n",
        "    if (a == 0):\n",
        "      return 0,1,b\n",
        "    \n",
        "    x, y, mdc_ = RSAFactory.__mdce( b % a, a)\n",
        "\n",
        "    return y - (b//a) * x, x, mdc_\n",
        "\n",
        "  def FabricarRSA( p: int, q: int, indice_e: int) -> tuple:\n",
        "    n = p * q\n",
        "\n",
        "    phi_n = RSAFactory.__ϕ(p,q)\n",
        "\n",
        "    es = RSAFactory.__coprimo(phi_n)\n",
        "\n",
        "    #se indice_e for negativo, escolhe um aleatorio\n",
        "    if(indice_e < 0):\n",
        "      e = random.choice(es)\n",
        "    else:\n",
        "      e = es[indice_e]\n",
        "\n",
        "    d,_,_ = RSAFactory.__mdce(e, phi_n)\n",
        "\n",
        "    if (d < 0):\n",
        "      d += phi_n\n",
        "    \n",
        "    #ignora sempre o 0x... que conta como 2 caracteres\n",
        "    tamanho_bloco = len(hex(n))-2\n",
        "    return (n,e,d,tamanho_bloco)\n",
        "  \n",
        "class RSA():\n",
        "  def __init__(self, exp : int, mod : int, tamanho_bloco : int):\n",
        "    self._exp = exp\n",
        "    self._mod = mod\n",
        "    self._tamanho_bloco = tamanho_bloco\n",
        "    self._mascara = mascara = \"%%0%dx\"%self._tamanho_bloco\n",
        "\n",
        "  def __separa_string(self, string :str, janela : int, padding : bool) -> list:\n",
        "    #Se a string não for multiplo de janela, faz um padding no final\n",
        "    if(padding):\n",
        "      tamanho_padding = len(string)%janela\n",
        "      if(tamanho_padding != 0):\n",
        "        string += '0'*(janela-tamanho_padding)\n",
        "    return [int(string[i-janela:i],16) for i in range(janela, len(string)+janela, janela)]\n",
        "\n",
        "  def _hex_para_bytes(self, string :str) -> list:\n",
        "    return self.__separa_string(string, 2, True)\n",
        "\n",
        "  def _bytestream_para_int(self,byte_stream : str) -> list:\n",
        "    return self.__separa_string(byte_stream, self._tamanho_bloco, False)\n",
        "\n",
        "  def _operacao(self, valor : int) -> int:\n",
        "    return pow(valor, self._exp, self._mod)\n",
        "\n",
        "class RSAPrivado(RSA):\n",
        "  def __init__(self, n : int, d: int, tamanho_bloco : int):\n",
        "    RSA.__init__(self,d,n,tamanho_bloco)\n",
        "\n",
        "  def criptografar(self, mensagem : str) -> bytes:\n",
        "    \n",
        "    #Converte char para int, criptografa e converte o resultado para hex\n",
        "    #faz padding nos numeros que não possuem a quantidade de caracters igual a\n",
        "    #quantidade da janela\n",
        "    criptografado = [self._mascara%(self._operacao(ord(l))) for l in mensagem]\n",
        "    \n",
        "    criptografado = ''.join(criptografado) \n",
        "    return bytes(self._hex_para_bytes(criptografado))\n",
        "\n",
        "class RSAPublico(RSA):\n",
        "  def __init__(self, n : int, e: int, tamanho_bloco : int):\n",
        "    RSA.__init__(self,e,n,tamanho_bloco)\n",
        "\n",
        "  def descriptografar(self, mensagem : bytes) -> list:\n",
        "    #Converte de byte para hex, desfazendo a primeira operação na criptografia\n",
        "    mensagem = [\"%02x\"%(v) for v in mensagem]\n",
        "    \n",
        "    mensagem = ''.join(mensagem)\n",
        "    criptografado = self._bytestream_para_int(mensagem)\n",
        "    descriptografado = [self._operacao(l) for l in criptografado] \n",
        "    \n",
        "    \"\"\"\n",
        "    Ao criptografar, foi determinado um protocolo onde, caso o numero de bytes\n",
        "    seja impar (um byte é representado por uma dupla de caracteres), deve-se \n",
        "    adicionar um valor 'dummy' (no caso, 0) no final da string.    \n",
        "    \"\"\"\n",
        "    if( int (descriptografado[-1]) == 0):\n",
        "      descriptografado = descriptografado[:-1]\n",
        "    return descriptografado"
      ],
      "execution_count": 86,
      "outputs": []
    },
    {
      "cell_type": "code",
      "metadata": {
        "colab": {
          "base_uri": "https://localhost:8080/"
        },
        "id": "9k2P6W8fc4-y",
        "outputId": "4472f04c-270e-4512-8dfa-f2ab1b87faa4"
      },
      "source": [
        "n, e, d, tamanho_bloco = RSAFactory.FabricarRSA(p,q,indice_e)\n",
        "print(\"n = %d, e = %d, d = %d\"%(n, e, d))\n",
        "print(\"Tamanho do bloco: %d\"%tamanho_bloco)\n",
        "\n",
        "modulo_criptografia_privado = RSAPrivado(n, e, tamanho_bloco)\n",
        "modulo_criptografia_publico = RSAPublico(n, d, tamanho_bloco)\n",
        "\n",
        "mesangem_criptografada = modulo_criptografia_privado.criptografar('Teste mensagem')\n",
        "print('Stream de bytes criptografados:',mesangem_criptografada)\n",
        "\n",
        "mensagem_descriptografada = modulo_criptografia_publico.descriptografar(mesangem_criptografada)\n",
        "mensagem_descriptografada = ''.join([chr(l) for l in mensagem_descriptografada])\n",
        "print('Stream de bytes descriptografados:',mensagem_descriptografada)"
      ],
      "execution_count": 87,
      "outputs": [
        {
          "output_type": "stream",
          "text": [
            "n = 13801, e = 989, d = 413\n",
            "Tamanho do bloco: 4\n",
            "Stream de bytes criptografados: b'\\x19e+\\x1d\\x1c\\xba\"|+\\x1d\\x1eD\\x1c\\x8c+\\x1d,\\xa8\\x1c\\xba\\x00-\\x07\\xdc+\\x1d\\x1c\\x8c'\n",
            "Stream de bytes descriptografados: Teste mensagem\n"
          ],
          "name": "stdout"
        }
      ]
    }
  ]
}